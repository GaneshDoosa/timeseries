{
 "cells": [
  {
   "cell_type": "code",
   "execution_count": 3,
   "id": "9954ec0f",
   "metadata": {},
   "outputs": [],
   "source": [
    "import pandas as pd"
   ]
  },
  {
   "cell_type": "code",
   "execution_count": 9,
   "id": "249f73db",
   "metadata": {},
   "outputs": [
    {
     "data": {
      "text/html": [
       "<div>\n",
       "<style scoped>\n",
       "    .dataframe tbody tr th:only-of-type {\n",
       "        vertical-align: middle;\n",
       "    }\n",
       "\n",
       "    .dataframe tbody tr th {\n",
       "        vertical-align: top;\n",
       "    }\n",
       "\n",
       "    .dataframe thead th {\n",
       "        text-align: right;\n",
       "    }\n",
       "</style>\n",
       "<table border=\"1\" class=\"dataframe\">\n",
       "  <thead>\n",
       "    <tr style=\"text-align: right;\">\n",
       "      <th></th>\n",
       "      <th>Exchange Rate TWI</th>\n",
       "    </tr>\n",
       "    <tr>\n",
       "      <th>Month</th>\n",
       "      <th></th>\n",
       "    </tr>\n",
       "  </thead>\n",
       "  <tbody>\n",
       "    <tr>\n",
       "      <th>1</th>\n",
       "      <td>100.0</td>\n",
       "    </tr>\n",
       "    <tr>\n",
       "      <th>2</th>\n",
       "      <td>99.6</td>\n",
       "    </tr>\n",
       "    <tr>\n",
       "      <th>3</th>\n",
       "      <td>99.4</td>\n",
       "    </tr>\n",
       "    <tr>\n",
       "      <th>4</th>\n",
       "      <td>99.1</td>\n",
       "    </tr>\n",
       "    <tr>\n",
       "      <th>5</th>\n",
       "      <td>99.2</td>\n",
       "    </tr>\n",
       "    <tr>\n",
       "      <th>...</th>\n",
       "      <td>...</td>\n",
       "    </tr>\n",
       "    <tr>\n",
       "      <th>300</th>\n",
       "      <td>49.6</td>\n",
       "    </tr>\n",
       "    <tr>\n",
       "      <th>301</th>\n",
       "      <td>48.5</td>\n",
       "    </tr>\n",
       "    <tr>\n",
       "      <th>302</th>\n",
       "      <td>48.4</td>\n",
       "    </tr>\n",
       "    <tr>\n",
       "      <th>303</th>\n",
       "      <td>51.0</td>\n",
       "    </tr>\n",
       "    <tr>\n",
       "      <th>304</th>\n",
       "      <td>53.9</td>\n",
       "    </tr>\n",
       "  </tbody>\n",
       "</table>\n",
       "<p>304 rows × 1 columns</p>\n",
       "</div>"
      ],
      "text/plain": [
       "       Exchange Rate TWI\n",
       "Month                   \n",
       "1                  100.0\n",
       "2                   99.6\n",
       "3                   99.4\n",
       "4                   99.1\n",
       "5                   99.2\n",
       "...                  ...\n",
       "300                 49.6\n",
       "301                 48.5\n",
       "302                 48.4\n",
       "303                 51.0\n",
       "304                 53.9\n",
       "\n",
       "[304 rows x 1 columns]"
      ]
     },
     "execution_count": 9,
     "metadata": {},
     "output_type": "execute_result"
    }
   ],
   "source": [
    "exchange_data = pd.read_csv('../dataset/exchange-rate-twi.csv')\n",
    "exchange_data.set_index('Month', inplace=True)\n",
    "exchange_data"
   ]
  },
  {
   "cell_type": "code",
   "execution_count": 10,
   "id": "600541f0",
   "metadata": {},
   "outputs": [
    {
     "data": {
      "text/plain": [
       "Exchange Rate TWI    0\n",
       "dtype: int64"
      ]
     },
     "execution_count": 10,
     "metadata": {},
     "output_type": "execute_result"
    }
   ],
   "source": [
    "exchange_data.isnull().sum()"
   ]
  },
  {
   "cell_type": "markdown",
   "id": "fccc36f8",
   "metadata": {},
   "source": [
    "## Stationary tests\n",
    "- KPSS test\n",
    "- ADF test"
   ]
  },
  {
   "cell_type": "markdown",
   "id": "58b9d80b",
   "metadata": {},
   "source": [
    "## Kwiatkowski-Phillips-Schmidt-Shin (KPSS) test - Unit root test\n",
    "\n",
    "- Null Hypothesis (H0): The series is stationary\n",
    "    - p-value>0.05\n",
    "- Alternate Hypothesis (H1): The series is not stationary\n",
    "    - p-value<=0.05\n",
    "\n",
    "Unit root test: Can a time series be explained by simple trend or not"
   ]
  },
  {
   "cell_type": "code",
   "execution_count": 11,
   "id": "e9099871",
   "metadata": {},
   "outputs": [
    {
     "name": "stderr",
     "output_type": "stream",
     "text": [
      "C:\\Users\\Ganesh\\anaconda3\\lib\\site-packages\\statsmodels\\tsa\\stattools.py:1875: FutureWarning: The behavior of using nlags=None will change in release 0.13.Currently nlags=None is the same as nlags=\"legacy\", and so a sample-size lag length is used. After the next release, the default will change to be the same as nlags=\"auto\" which uses an automatic lag length selection method. To silence this warning, either use \"auto\" or \"legacy\"\n",
      "  warnings.warn(msg, FutureWarning)\n",
      "C:\\Users\\Ganesh\\anaconda3\\lib\\site-packages\\statsmodels\\tsa\\stattools.py:1906: InterpolationWarning: The test statistic is outside of the range of p-values available in the\n",
      "look-up table. The actual p-value is smaller than the p-value returned.\n",
      "\n",
      "  warnings.warn(\n"
     ]
    },
    {
     "data": {
      "text/plain": [
       "(1.7258967599333663,\n",
       " 0.01,\n",
       " 16,\n",
       " {'10%': 0.347, '5%': 0.463, '2.5%': 0.574, '1%': 0.739})"
      ]
     },
     "execution_count": 11,
     "metadata": {},
     "output_type": "execute_result"
    }
   ],
   "source": [
    "from statsmodels.tsa.stattools import kpss\n",
    "kpss_test = kpss(exchange_data['Exchange Rate TWI'])\n",
    "kpss_test"
   ]
  },
  {
   "cell_type": "code",
   "execution_count": 12,
   "id": "48239da0",
   "metadata": {},
   "outputs": [
    {
     "name": "stdout",
     "output_type": "stream",
     "text": [
      "p-value:  0.01\n"
     ]
    }
   ],
   "source": [
    "print('p-value: ', kpss_test[1])"
   ]
  },
  {
   "cell_type": "markdown",
   "id": "3b37dbf4",
   "metadata": {},
   "source": [
    "> p-value<=0.05, so we can reject null hypothesis, so the series is not stationary"
   ]
  },
  {
   "cell_type": "markdown",
   "id": "d289548c",
   "metadata": {},
   "source": [
    "## Augmented Dickey-Fuller (ADF) Test - Unit root test\n",
    "- Null Hypothesis (H0): The series is not stationary\n",
    "    - p-value>0.05\n",
    "- Alternate Hypothesis (H1): The series is stationary\n",
    "    - p-value<=0.05"
   ]
  },
  {
   "cell_type": "code",
   "execution_count": 15,
   "id": "a8cef6fe",
   "metadata": {},
   "outputs": [
    {
     "data": {
      "text/plain": [
       "(-0.8054678720541547,\n",
       " 0.8175106426685046,\n",
       " 0,\n",
       " 303,\n",
       " {'1%': -3.4521175397304784,\n",
       "  '5%': -2.8711265007266666,\n",
       "  '10%': -2.571877823851692},\n",
       " 1268.8696918056114)"
      ]
     },
     "execution_count": 15,
     "metadata": {},
     "output_type": "execute_result"
    }
   ],
   "source": [
    "from statsmodels.tsa.stattools import adfuller\n",
    "adf_test = adfuller(exchange_data['Exchange Rate TWI'])\n",
    "adf_test"
   ]
  },
  {
   "cell_type": "code",
   "execution_count": 16,
   "id": "047fd82d",
   "metadata": {},
   "outputs": [
    {
     "name": "stdout",
     "output_type": "stream",
     "text": [
      "p-value: 0.8175106426685046\n"
     ]
    }
   ],
   "source": [
    "print('p-value:', adf_test[1])"
   ]
  },
  {
   "cell_type": "markdown",
   "id": "faa78094",
   "metadata": {},
   "source": [
    "> p-value>0.05, so null hypothesis is true, the series is not stationary"
   ]
  }
 ],
 "metadata": {
  "kernelspec": {
   "display_name": "Python 3 (ipykernel)",
   "language": "python",
   "name": "python3"
  },
  "language_info": {
   "codemirror_mode": {
    "name": "ipython",
    "version": 3
   },
   "file_extension": ".py",
   "mimetype": "text/x-python",
   "name": "python",
   "nbconvert_exporter": "python",
   "pygments_lexer": "ipython3",
   "version": "3.9.7"
  }
 },
 "nbformat": 4,
 "nbformat_minor": 5
}
