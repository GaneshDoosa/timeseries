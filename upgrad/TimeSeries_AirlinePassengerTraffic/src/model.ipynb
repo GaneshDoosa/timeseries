{
 "cells": [
  {
   "cell_type": "code",
   "execution_count": 22,
   "id": "9bd941e1",
   "metadata": {},
   "outputs": [],
   "source": [
    "import pandas as pd\n",
    "import matplotlib.pyplot as plt\n",
    "import numpy as np"
   ]
  },
  {
   "cell_type": "code",
   "execution_count": 14,
   "id": "40fb5710",
   "metadata": {},
   "outputs": [
    {
     "data": {
      "text/html": [
       "<div>\n",
       "<style scoped>\n",
       "    .dataframe tbody tr th:only-of-type {\n",
       "        vertical-align: middle;\n",
       "    }\n",
       "\n",
       "    .dataframe tbody tr th {\n",
       "        vertical-align: top;\n",
       "    }\n",
       "\n",
       "    .dataframe thead th {\n",
       "        text-align: right;\n",
       "    }\n",
       "</style>\n",
       "<table border=\"1\" class=\"dataframe\">\n",
       "  <thead>\n",
       "    <tr style=\"text-align: right;\">\n",
       "      <th></th>\n",
       "      <th>Passengers</th>\n",
       "    </tr>\n",
       "    <tr>\n",
       "      <th>Date</th>\n",
       "      <th></th>\n",
       "    </tr>\n",
       "  </thead>\n",
       "  <tbody>\n",
       "    <tr>\n",
       "      <th>1949-01-01</th>\n",
       "      <td>112.0</td>\n",
       "    </tr>\n",
       "    <tr>\n",
       "      <th>1949-02-01</th>\n",
       "      <td>118.0</td>\n",
       "    </tr>\n",
       "    <tr>\n",
       "      <th>1949-03-01</th>\n",
       "      <td>132.0</td>\n",
       "    </tr>\n",
       "    <tr>\n",
       "      <th>1949-04-01</th>\n",
       "      <td>129.0</td>\n",
       "    </tr>\n",
       "    <tr>\n",
       "      <th>1949-05-01</th>\n",
       "      <td>121.0</td>\n",
       "    </tr>\n",
       "    <tr>\n",
       "      <th>...</th>\n",
       "      <td>...</td>\n",
       "    </tr>\n",
       "    <tr>\n",
       "      <th>1960-08-01</th>\n",
       "      <td>606.0</td>\n",
       "    </tr>\n",
       "    <tr>\n",
       "      <th>1960-09-01</th>\n",
       "      <td>508.0</td>\n",
       "    </tr>\n",
       "    <tr>\n",
       "      <th>1960-10-01</th>\n",
       "      <td>461.0</td>\n",
       "    </tr>\n",
       "    <tr>\n",
       "      <th>1960-11-01</th>\n",
       "      <td>390.0</td>\n",
       "    </tr>\n",
       "    <tr>\n",
       "      <th>1960-12-01</th>\n",
       "      <td>432.0</td>\n",
       "    </tr>\n",
       "  </tbody>\n",
       "</table>\n",
       "<p>144 rows × 1 columns</p>\n",
       "</div>"
      ],
      "text/plain": [
       "            Passengers\n",
       "Date                  \n",
       "1949-01-01       112.0\n",
       "1949-02-01       118.0\n",
       "1949-03-01       132.0\n",
       "1949-04-01       129.0\n",
       "1949-05-01       121.0\n",
       "...                ...\n",
       "1960-08-01       606.0\n",
       "1960-09-01       508.0\n",
       "1960-10-01       461.0\n",
       "1960-11-01       390.0\n",
       "1960-12-01       432.0\n",
       "\n",
       "[144 rows x 1 columns]"
      ]
     },
     "execution_count": 14,
     "metadata": {},
     "output_type": "execute_result"
    }
   ],
   "source": [
    "airline_data = pd.read_csv('../dataset/dataanalysis.csv')\n",
    "airline_data['Date'] = pd.to_datetime(airline_data['Date'], format='%Y-%m-%d')\n",
    "airline_data.drop(['Passengers','Passengers_Mean_Imputation'], axis=1, inplace=True)\n",
    "airline_data.rename({'Passengers_Linear_Interpolation':'Passengers'}, axis=1, inplace=True)\n",
    "airline_data.set_index('Date', inplace=True)\n",
    "airline_data"
   ]
  },
  {
   "cell_type": "markdown",
   "id": "56677042",
   "metadata": {},
   "source": [
    "## Build and evaluate time series data"
   ]
  },
  {
   "cell_type": "code",
   "execution_count": 15,
   "id": "0b4d0386",
   "metadata": {},
   "outputs": [],
   "source": [
    "# Splitting time series into training and test sets\n",
    "train_len = 120\n",
    "train = airline_data[0:train_len]\n",
    "test = airline_data[train_len:]\n",
    "y_hat = test.copy()"
   ]
  },
  {
   "cell_type": "markdown",
   "id": "167df013",
   "metadata": {},
   "source": [
    "### Naive method"
   ]
  },
  {
   "cell_type": "code",
   "execution_count": 17,
   "id": "19583aa2",
   "metadata": {},
   "outputs": [
    {
     "data": {
      "image/png": "[encoded data removed]",
      "text/plain": [
       "<Figure size 864x288 with 1 Axes>"
      ]
     },
     "metadata": {
      "needs_background": "light"
     },
     "output_type": "display_data"
    }
   ],
   "source": [
    "y_hat['naive_forecast'] = train['Passengers'][train_len-1]\n",
    "# plot train test forecast\n",
    "plt.figure(figsize=(12,4))\n",
    "plt.plot(train['Passengers'], label='train')\n",
    "plt.plot(test['Passengers'], label='test')\n",
    "plt.plot(y_hat['naive_forecast'], label='Naive forecast')\n",
    "plt.legend(loc='best')\n",
    "plt.title('Naive Method')\n",
    "plt.show()"
   ]
  },
  {
   "cell_type": "markdown",
   "id": "9b31026b",
   "metadata": {},
   "source": [
    "## Simple average method"
   ]
  },
  {
   "cell_type": "code",
   "execution_count": 19,
   "id": "9d5b1cd7",
   "metadata": {},
   "outputs": [
    {
     "data": {
      "image/png": "[encoded data removed]",
      "text/plain": [
       "<Figure size 864x288 with 1 Axes>"
      ]
     },
     "metadata": {
      "needs_background": "light"
     },
     "output_type": "display_data"
    }
   ],
   "source": [
    "y_hat['avg_forecast'] = train['Passengers'].mean()\n",
    "plt.figure(figsize=(12,4))\n",
    "plt.plot(train['Passengers'], label='train')\n",
    "plt.plot(test['Passengers'], label='test')\n",
    "plt.plot(y_hat['avg_forecast'], label='Simple average method')\n",
    "plt.legend(loc='best')\n",
    "plt.title('Simple Average Method')\n",
    "plt.show()"
   ]
  },
  {
   "cell_type": "markdown",
   "id": "f9e8e108",
   "metadata": {},
   "source": [
    "## Calculate RMSE and MAPE to evaluate forecast"
   ]
  },
  {
   "cell_type": "code",
   "execution_count": 36,
   "id": "1d958395",
   "metadata": {},
   "outputs": [
    {
     "data": {
      "text/html": [
       "<div>\n",
       "<style scoped>\n",
       "    .dataframe tbody tr th:only-of-type {\n",
       "        vertical-align: middle;\n",
       "    }\n",
       "\n",
       "    .dataframe tbody tr th {\n",
       "        vertical-align: top;\n",
       "    }\n",
       "\n",
       "    .dataframe thead th {\n",
       "        text-align: right;\n",
       "    }\n",
       "</style>\n",
       "<table border=\"1\" class=\"dataframe\">\n",
       "  <thead>\n",
       "    <tr style=\"text-align: right;\">\n",
       "      <th></th>\n",
       "      <th>Method</th>\n",
       "      <th>MAPE</th>\n",
       "      <th>RMSE</th>\n",
       "    </tr>\n",
       "  </thead>\n",
       "  <tbody>\n",
       "    <tr>\n",
       "      <th>0</th>\n",
       "      <td>Naive method</td>\n",
       "      <td>23.63</td>\n",
       "      <td>137.51</td>\n",
       "    </tr>\n",
       "  </tbody>\n",
       "</table>\n",
       "</div>"
      ],
      "text/plain": [
       "         Method   MAPE    RMSE\n",
       "0  Naive method  23.63  137.51"
      ]
     },
     "execution_count": 36,
     "metadata": {},
     "output_type": "execute_result"
    }
   ],
   "source": [
    "from sklearn.metrics import mean_squared_error\n",
    "rmse = np.sqrt(mean_squared_error(test['Passengers'],y_hat['naive_forecast'])).round(2)\n",
    "mape = np.round(np.mean(np.abs(test['Passengers']-y_hat['naive_forecast'])/test['Passengers'])*100,2)\n",
    "results = pd.DataFrame({'Method': ['Naive method'], 'MAPE':mape,'RMSE':rmse})\n",
    "results"
   ]
  },
  {
   "cell_type": "code",
   "execution_count": 37,
   "id": "6c8ab644",
   "metadata": {},
   "outputs": [
    {
     "data": {
      "text/html": [
       "<div>\n",
       "<style scoped>\n",
       "    .dataframe tbody tr th:only-of-type {\n",
       "        vertical-align: middle;\n",
       "    }\n",
       "\n",
       "    .dataframe tbody tr th {\n",
       "        vertical-align: top;\n",
       "    }\n",
       "\n",
       "    .dataframe thead th {\n",
       "        text-align: right;\n",
       "    }\n",
       "</style>\n",
       "<table border=\"1\" class=\"dataframe\">\n",
       "  <thead>\n",
       "    <tr style=\"text-align: right;\">\n",
       "      <th></th>\n",
       "      <th>Method</th>\n",
       "      <th>MAPE</th>\n",
       "      <th>RMSE</th>\n",
       "    </tr>\n",
       "  </thead>\n",
       "  <tbody>\n",
       "    <tr>\n",
       "      <th>0</th>\n",
       "      <td>Naive method</td>\n",
       "      <td>23.63</td>\n",
       "      <td>137.51</td>\n",
       "    </tr>\n",
       "    <tr>\n",
       "      <th>1</th>\n",
       "      <td>Simple Average</td>\n",
       "      <td>44.28</td>\n",
       "      <td>219.69</td>\n",
       "    </tr>\n",
       "  </tbody>\n",
       "</table>\n",
       "</div>"
      ],
      "text/plain": [
       "           Method   MAPE    RMSE\n",
       "0    Naive method  23.63  137.51\n",
       "1  Simple Average  44.28  219.69"
      ]
     },
     "execution_count": 37,
     "metadata": {},
     "output_type": "execute_result"
    }
   ],
   "source": [
    "from sklearn.metrics import mean_squared_error\n",
    "rmse = np.sqrt(mean_squared_error(test['Passengers'],y_hat['avg_forecast'])).round(2)\n",
    "mape = np.round(np.mean(np.abs(test['Passengers']-y_hat['avg_forecast'])/test['Passengers'])*100,2)\n",
    "results = results.append({'Method': 'Simple Average', 'MAPE':mape,'RMSE':rmse}, ignore_index=True)\n",
    "results"
   ]
  },
  {
   "cell_type": "markdown",
   "id": "16d5b887",
   "metadata": {},
   "source": [
    "# Auto regressive models\n",
    "\n",
    "Basic requirements to build Auto Regressive Models\n",
    "- Stationarity\n",
    "- Auto Correlation"
   ]
  },
  {
   "cell_type": "markdown",
   "id": "27438219",
   "metadata": {},
   "source": [
    "## The Simple Auto Regressive Model (AR)\n",
    "\n",
    "- Predicts the future regression as linear regression of one or more past observations\n",
    "- Model has parameter p called lag order. Lag order is the maximum number of lags used to build p number of past data points to predict future data points\n",
    "\n",
    "\n",
    "#### Determinne paramter p:\n",
    "    1. Plot partial autocorrelation function\n",
    "    2. Select p as the highest lag where partial auto correlation is significantly high\n",
    "        - For suppose lag value of 1, 2, 4 and 12 has a significant level of confidence. i.e., significant level of influence on future observation (refer the red line). Hence, the value of 'p' will be set to 12 since that is the highest lag where partial autocorrelation is significantly high. \n",
    "    3. Build regressive model equation\n",
    "    \n",
    "$$\n",
    "\\hat{y}_{t}=\\beta_{0}+\\beta_{1} y_{t-1}+\\beta_{2} y_{t-2}+\\beta_{4} y_{t-4}+\\beta_{12} y_{t-12}\n",
    "$$\n",
    "The past values which have a significant value are 1, 2, 4 and 12. Therefore, in the regression model the independent variables $y_{t-1}$, $y_{t-2}$, $y_{t-4}$ and $y_{t-12}$. which are the observations from the past has been taken to predict the dependent variable $\\hat{y}_{t}$\n",
    "\n"
   ]
  },
  {
   "cell_type": "code",
   "execution_count": 1,
   "id": "72a63425",
   "metadata": {},
   "outputs": [],
   "source": [
    "# Partial auto correlation fucntion"
   ]
  },
  {
   "cell_type": "code",
   "execution_count": 2,
   "id": "e1532824",
   "metadata": {},
   "outputs": [],
   "source": [
    "# Split into train and test sets\n",
    "train_airline_data_boxcox = airline_data['']"
   ]
  }
 ],
 "metadata": {
  "kernelspec": {
   "display_name": "Python 3 (ipykernel)",
   "language": "python",
   "name": "python3"
  },
  "language_info": {
   "codemirror_mode": {
    "name": "ipython",
    "version": 3
   },
   "file_extension": ".py",
   "mimetype": "text/x-python",
   "name": "python",
   "nbconvert_exporter": "python",
   "pygments_lexer": "ipython3",
   "version": "3.9.7"
  }
 },
 "nbformat": 4,
 "nbformat_minor": 5
}
